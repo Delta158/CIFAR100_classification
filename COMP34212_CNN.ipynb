{
 "cells": [
  {
   "cell_type": "code",
   "execution_count": 1,
   "metadata": {},
   "outputs": [],
   "source": [
    "# importing of modules for CIFAR-100 CNN \n",
    "# from tensorflow.keras.datasets import cifar10\n",
    "from tensorflow.keras.datasets import cifar100\n",
    "from tensorflow.keras import utils, backend\n",
    "from tensorflow.keras.models import Sequential\n",
    "from tensorflow.keras.layers import Dense, Dropout, Activation, Flatten\n",
    "from tensorflow.keras.layers import Conv2D, MaxPooling2D\n",
    "from tensorflow.keras.optimizers import SGD, Adam, RMSprop\n",
    "from keras import regularizers\n",
    "\n",
    "# importing of service libraries\n",
    "import numpy as np\n",
    "import matplotlib.pyplot as plt\n",
    "# import scipy\n",
    "\n",
    "# import tensorflow as tf\n",
    "# print(tf.config.list_physical_devices('GPU'))"
   ]
  },
  {
   "cell_type": "code",
   "execution_count": 2,
   "metadata": {},
   "outputs": [
    {
     "data": {
      "text/plain": [
       "[PhysicalDevice(name='/physical_device:GPU:0', device_type='GPU')]"
      ]
     },
     "execution_count": 2,
     "metadata": {},
     "output_type": "execute_result"
    }
   ],
   "source": [
    "import tensorflow as tf\n",
    "tf.config.list_physical_devices(\"GPU\")"
   ]
  },
  {
   "cell_type": "code",
   "execution_count": 3,
   "metadata": {},
   "outputs": [
    {
     "name": "stdout",
     "output_type": "stream",
     "text": [
      "Main variables initialised.\n",
      "Image variables initialisation\n"
     ]
    }
   ],
   "source": [
    "#training constants\n",
    "BATCH_SIZE = 64\n",
    "N_EPOCH = 20\n",
    "N_CLASSES = 100\n",
    "VERBOSE = 1\n",
    "VALIDATION_SPLIT = 0.2\n",
    "LEARNING_RATE = 0.0001\n",
    "OPTIM = Adam(learning_rate=LEARNING_RATE)\n",
    "\n",
    "print('Main variables initialised.')\n",
    "\n",
    "\n",
    "# CIFAR_10 is a set of 60K images 32x32 pixels on 3 channels\n",
    "IMG_CHANNELS = 3\n",
    "IMG_ROWS = 32\n",
    "IMG_COLS = 32\n",
    "\n",
    "print('Image variables initialisation')\n"
   ]
  },
  {
   "cell_type": "code",
   "execution_count": 4,
   "metadata": {},
   "outputs": [
    {
     "name": "stdout",
     "output_type": "stream",
     "text": [
      "input_X_train shape: (50000, 32, 32, 3)\n",
      "50000 train samples\n",
      "50000 train labels\n",
      "10000 test samples\n",
      "10000 test labels\n",
      "X_train shape: (50000, 32, 32, 3)\n",
      "y_train shape: (50000, 1)\n",
      "X_test shape: (10000, 32, 32, 3)\n",
      "y_test shape: (10000, 1)\n",
      "output_Y_train shape: (50000, 100)\n",
      "output_Y_test shape: (10000, 100)\n"
     ]
    }
   ],
   "source": [
    "# Load CIFAR-100 data\n",
    "(X_train, y_train), (X_test, y_test) = cifar100.load_data(label_mode='fine')\n",
    "print('input_X_train shape:', X_train.shape)\n",
    "print(X_train.shape[0], 'train samples')\n",
    "print(y_train.shape[0], 'train labels')\n",
    "\n",
    "print(X_test.shape[0], 'test samples')\n",
    "print(y_test.shape[0], 'test labels')\n",
    "\n",
    "print(\"X_train shape:\", X_train.shape)\n",
    "print(\"y_train shape:\", y_train.shape)\n",
    "print(\"X_test shape:\", X_test.shape)\n",
    "print(\"y_test shape:\", y_test.shape)\n",
    " \n",
    "# convert to categorical\n",
    "output_Y_train = utils.to_categorical(y_train, N_CLASSES)\n",
    "output_Y_test = utils.to_categorical(y_test, N_CLASSES) \n",
    "\n",
    "\n",
    "# Print shapes\n",
    "print(\"output_Y_train shape:\", output_Y_train.shape)\n",
    "print(\"output_Y_test shape:\", output_Y_test.shape)\n",
    "\n",
    "# float and normalization\n",
    "input_X_train = X_train.astype('float32')\n",
    "input_X_test = X_test.astype('float32')\n",
    "input_X_train /= 255\n",
    "input_X_test /= 255"
   ]
  },
  {
   "cell_type": "code",
   "execution_count": 5,
   "metadata": {},
   "outputs": [],
   "source": [
    "# # visualisation of the numerical vector and 2D colour plot of the sample CIFAR imnage 2\n",
    "# Selected_Image = 0\n",
    "# image = X_train[Selected_Image]\n",
    "# # print (\"Sample input image: \" + str(image))\n",
    "# plt.imshow(image)\n",
    "# plt.show() \n",
    "\n",
    "# Selected_Image = 1\n",
    "# image = X_train[Selected_Image]\n",
    "# # print (\"Sample input image: \" + str(image))\n",
    "# plt.imshow(image)\n",
    "# plt.show() "
   ]
  },
  {
   "cell_type": "code",
   "execution_count": 6,
   "metadata": {},
   "outputs": [
    {
     "name": "stdout",
     "output_type": "stream",
     "text": [
      "Model: \"sequential\"\n",
      "_________________________________________________________________\n",
      " Layer (type)                Output Shape              Param #   \n",
      "=================================================================\n",
      " conv2d (Conv2D)             (None, 32, 32, 64)        1792      \n",
      "                                                                 \n",
      " activation (Activation)     (None, 32, 32, 64)        0         \n",
      "                                                                 \n",
      " max_pooling2d (MaxPooling2D  (None, 16, 16, 64)       0         \n",
      " )                                                               \n",
      "                                                                 \n",
      " dropout (Dropout)           (None, 16, 16, 64)        0         \n",
      "                                                                 \n",
      " conv2d_1 (Conv2D)           (None, 16, 16, 256)       147712    \n",
      "                                                                 \n",
      " activation_1 (Activation)   (None, 16, 16, 256)       0         \n",
      "                                                                 \n",
      " max_pooling2d_1 (MaxPooling  (None, 8, 8, 256)        0         \n",
      " 2D)                                                             \n",
      "                                                                 \n",
      " dropout_1 (Dropout)         (None, 8, 8, 256)         0         \n",
      "                                                                 \n",
      " conv2d_2 (Conv2D)           (None, 8, 8, 512)         1180160   \n",
      "                                                                 \n",
      " activation_2 (Activation)   (None, 8, 8, 512)         0         \n",
      "                                                                 \n",
      " max_pooling2d_2 (MaxPooling  (None, 4, 4, 512)        0         \n",
      " 2D)                                                             \n",
      "                                                                 \n",
      " dropout_2 (Dropout)         (None, 4, 4, 512)         0         \n",
      "                                                                 \n",
      " flatten (Flatten)           (None, 8192)              0         \n",
      "                                                                 \n",
      " dense (Dense)               (None, 1024)              8389632   \n",
      "                                                                 \n",
      " activation_3 (Activation)   (None, 1024)              0         \n",
      "                                                                 \n",
      " dropout_3 (Dropout)         (None, 1024)              0         \n",
      "                                                                 \n",
      " dense_1 (Dense)             (None, 100)               102500    \n",
      "                                                                 \n",
      " activation_4 (Activation)   (None, 100)               0         \n",
      "                                                                 \n",
      "=================================================================\n",
      "Total params: 9,821,796\n",
      "Trainable params: 9,821,796\n",
      "Non-trainable params: 0\n",
      "_________________________________________________________________\n",
      "Number of hidden layers: 16\n"
     ]
    }
   ],
   "source": [
    "# Model\n",
    "\n",
    "def get_model(lr = 0.001, units = 64):\n",
    "    model = Sequential()\n",
    "    model.add(Conv2D(units, (3, 3), padding='same', input_shape=(IMG_ROWS, IMG_COLS, IMG_CHANNELS)))\n",
    "    model.add(Activation('relu'))\n",
    "    model.add(MaxPooling2D(pool_size=(2, 2)))\n",
    "    model.add(Dropout(0.25))\n",
    "\n",
    "    model.add(Conv2D(256, (3, 3), padding='same'))\n",
    "    model.add(Activation('relu'))\n",
    "    model.add(MaxPooling2D(pool_size=(2, 2)))\n",
    "    model.add(Dropout(0.25))\n",
    "\n",
    "    model.add(Conv2D(512, (3, 3), padding='same'))\n",
    "    model.add(Activation('relu'))\n",
    "    model.add(MaxPooling2D(pool_size=(2, 2)))\n",
    "    model.add(Dropout(0.25))\n",
    "\n",
    "    model.add(Flatten())\n",
    "    model.add(Dense(1024))\n",
    "    model.add(Activation('relu'))\n",
    "    model.add(Dropout(0.5))\n",
    "    model.add(Dense(N_CLASSES))\n",
    "    model.add(Activation('softmax'))\n",
    "\n",
    "    # model.summary()\n",
    "\n",
    "\n",
    "    # compile the model\n",
    "    model.compile(loss='categorical_crossentropy', optimizer=Adam(learning_rate=lr), metrics=['accuracy'])\n",
    "\n",
    "    return model\n",
    "\n",
    "model = get_model(0.001)\n",
    "\n",
    "model.summary()\n",
    "\n",
    "num_hidden_layers = len(model.layers) - 2  # Excluding the input and output layers\n",
    "print(\"Number of hidden layers:\", num_hidden_layers)\n"
   ]
  },
  {
   "cell_type": "code",
   "execution_count": 7,
   "metadata": {},
   "outputs": [],
   "source": [
    "# history = model.fit(input_X_train, output_Y_train, batch_size=BATCH_SIZE, epochs=N_EPOCH, validation_split=VALIDATION_SPLIT,  verbose=VERBOSE)\n",
    "# score = model.evaluate(input_X_test, output_Y_test, batch_size=BATCH_SIZE, verbose=0)\n",
    "# print(\"BATCH_SIZE\", BATCH_SIZE)\n",
    "# print(\"N_EPOCH\", N_EPOCH)\n",
    "# print(\"LEARNING_RATE\", LEARNING_RATE)\n",
    "# print(\"Test score/loss:\", score[0])\n",
    "# print('Test accuracy:', score[1])"
   ]
  },
  {
   "cell_type": "markdown",
   "metadata": {},
   "source": [
    "EXPERIMENTS\n",
    "\n",
    "WARNING: ONLY UNCOMMENT AND RUN THE TRAININGS THAT ARE INSIDE LOOPS IF USING A GPU WITH LARGE AMOUNT OF AVAILABLE VRAM, TESTING DONE ON LOCAL MACHINE WITH AN OVERCLOCKED NVIDIA GEFORCE RTX 4090 GPU WITH 24GB OF VRAM\n",
    "\n",
    "NOTE: Exact values may be different from the report as this notebook was rerun."
   ]
  },
  {
   "cell_type": "markdown",
   "metadata": {},
   "source": [
    "BATCH SIZE\n"
   ]
  },
  {
   "cell_type": "code",
   "execution_count": 8,
   "metadata": {},
   "outputs": [],
   "source": [
    "def batch_experiments(batches):\n",
    "\n",
    "    for i in batches:\n",
    "        model = get_model(lr= 0.0001)\n",
    "        history = model.fit(input_X_train, output_Y_train, batch_size=i, epochs=N_EPOCH, validation_split=VALIDATION_SPLIT,  verbose=0)\n",
    "        score = model.evaluate(input_X_test, output_Y_test, batch_size=i, verbose=0)\n",
    "        print(\"BATCH_SIZE\", i)\n",
    "        print(\"Test score/loss:\", score[0])\n",
    "        print('Test accuracy:', score[1])\n",
    "\n",
    "batches = [64, 128, 256, 512, 1024]\n",
    "# batch_experiments(batches)"
   ]
  },
  {
   "cell_type": "code",
   "execution_count": 9,
   "metadata": {},
   "outputs": [],
   "source": [
    "# Batch   Size Accuracy   Loss \n",
    "# 64      0.0100          4.6087\n",
    "# 128     0.3811          2.4941\n",
    "# 256     0.4289          2.3147\n",
    "# 512     0.4556          2.2264\n",
    "# 1024    0.4458          2.2048\n",
    "\n",
    "\n",
    "BATCH_SIZE = 512"
   ]
  },
  {
   "cell_type": "markdown",
   "metadata": {},
   "source": [
    "LEARNING RATE  "
   ]
  },
  {
   "cell_type": "code",
   "execution_count": 10,
   "metadata": {},
   "outputs": [],
   "source": [
    "def learning_rate_experiments(rates):\n",
    "\n",
    "    for i in rates:\n",
    "        model = get_model(lr=i)\n",
    "        history = model.fit(input_X_train, output_Y_train, batch_size=512, epochs=N_EPOCH, validation_split=VALIDATION_SPLIT,  verbose=0)\n",
    "        score = model.evaluate(input_X_test, output_Y_test, batch_size=512, verbose=0)\n",
    "        print(\"LEARNING_RATE\", i)\n",
    "        print(\"Test score/loss:\", score[0])\n",
    "        print('Test accuracy:', score[1])\n",
    "\n",
    "lr = [0.1, 0.01, 0.001, 0.0001, 0.00001, 0.000001]\n",
    "# learning_rate_experiments(lr)"
   ]
  },
  {
   "cell_type": "code",
   "execution_count": 11,
   "metadata": {},
   "outputs": [],
   "source": [
    "# Learning      Rate Accuracy   Loss\n",
    "# 0.1           0.4482          2.2050\n",
    "# 0.01          0.4315          2.3692\n",
    "# 0.001         0.4664          2.1094\n",
    "# 0.0001        0.4435          2.3408\n",
    "# 0.00001       0.4499          2.2422\n",
    "# 0.000001      0.4449          2.2583\n",
    "\n",
    "\n",
    "LEARNING_RATE = 0.001\n",
    "OPTIM = Adam(learning_rate=LEARNING_RATE)"
   ]
  },
  {
   "cell_type": "markdown",
   "metadata": {},
   "source": [
    "HIDDEN LAYERS"
   ]
  },
  {
   "cell_type": "code",
   "execution_count": 12,
   "metadata": {},
   "outputs": [
    {
     "name": "stdout",
     "output_type": "stream",
     "text": [
      "Model: \"sequential_1\"\n",
      "_________________________________________________________________\n",
      " Layer (type)                Output Shape              Param #   \n",
      "=================================================================\n",
      " conv2d_3 (Conv2D)           (None, 32, 32, 64)        1792      \n",
      "                                                                 \n",
      " activation_5 (Activation)   (None, 32, 32, 64)        0         \n",
      "                                                                 \n",
      " max_pooling2d_3 (MaxPooling  (None, 16, 16, 64)       0         \n",
      " 2D)                                                             \n",
      "                                                                 \n",
      " dropout_4 (Dropout)         (None, 16, 16, 64)        0         \n",
      "                                                                 \n",
      " flatten_1 (Flatten)         (None, 16384)             0         \n",
      "                                                                 \n",
      " dense_2 (Dense)             (None, 1024)              16778240  \n",
      "                                                                 \n",
      " activation_6 (Activation)   (None, 1024)              0         \n",
      "                                                                 \n",
      " dropout_5 (Dropout)         (None, 1024)              0         \n",
      "                                                                 \n",
      " dense_3 (Dense)             (None, 100)               102500    \n",
      "                                                                 \n",
      " activation_7 (Activation)   (None, 100)               0         \n",
      "                                                                 \n",
      "=================================================================\n",
      "Total params: 16,882,532\n",
      "Trainable params: 16,882,532\n",
      "Non-trainable params: 0\n",
      "_________________________________________________________________\n",
      "Number of hidden layers: 8\n"
     ]
    }
   ],
   "source": [
    "model_8 = Sequential()\n",
    "model_8.add(Conv2D(64, (3, 3), padding='same', input_shape=(IMG_ROWS, IMG_COLS, IMG_CHANNELS)))\n",
    "model_8.add(Activation('relu'))\n",
    "model_8.add(MaxPooling2D(pool_size=(2, 2)))\n",
    "model_8.add(Dropout(0.25))\n",
    "\n",
    "\n",
    "model_8.add(Flatten())\n",
    "model_8.add(Dense(1024))\n",
    "model_8.add(Activation('relu'))\n",
    "model_8.add(Dropout(0.5))\n",
    "model_8.add(Dense(N_CLASSES))\n",
    "model_8.add(Activation('softmax'))\n",
    "\n",
    "\n",
    "\n",
    "\n",
    "# compile the model\n",
    "model_8.compile(loss='categorical_crossentropy', optimizer=Adam(learning_rate=0.0001), metrics=['accuracy'])\n",
    "\n",
    "\n",
    "model_8.summary()\n",
    "\n",
    "num_hidden_layers = len(model_8.layers) - 2  # Excluding the input and output layers\n",
    "print(\"Number of hidden layers:\", num_hidden_layers)\n",
    "\n",
    "# history = model_8.fit(input_X_train, output_Y_train, batch_size=512, epochs=N_EPOCH, validation_split=VALIDATION_SPLIT,  verbose=1)\n",
    "# score = model_8.evaluate(input_X_test, output_Y_test, batch_size=512, verbose=0)\n",
    "# print(\"Test score/loss:\", score[0])\n",
    "# print('Test accuracy:', score[1])"
   ]
  },
  {
   "cell_type": "code",
   "execution_count": 13,
   "metadata": {},
   "outputs": [
    {
     "name": "stdout",
     "output_type": "stream",
     "text": [
      "Model: \"sequential_2\"\n",
      "_________________________________________________________________\n",
      " Layer (type)                Output Shape              Param #   \n",
      "=================================================================\n",
      " conv2d_4 (Conv2D)           (None, 32, 32, 64)        1792      \n",
      "                                                                 \n",
      " activation_8 (Activation)   (None, 32, 32, 64)        0         \n",
      "                                                                 \n",
      " max_pooling2d_4 (MaxPooling  (None, 16, 16, 64)       0         \n",
      " 2D)                                                             \n",
      "                                                                 \n",
      " dropout_6 (Dropout)         (None, 16, 16, 64)        0         \n",
      "                                                                 \n",
      " conv2d_5 (Conv2D)           (None, 16, 16, 256)       147712    \n",
      "                                                                 \n",
      " activation_9 (Activation)   (None, 16, 16, 256)       0         \n",
      "                                                                 \n",
      " max_pooling2d_5 (MaxPooling  (None, 8, 8, 256)        0         \n",
      " 2D)                                                             \n",
      "                                                                 \n",
      " dropout_7 (Dropout)         (None, 8, 8, 256)         0         \n",
      "                                                                 \n",
      " conv2d_6 (Conv2D)           (None, 8, 8, 512)         1180160   \n",
      "                                                                 \n",
      " activation_10 (Activation)  (None, 8, 8, 512)         0         \n",
      "                                                                 \n",
      " max_pooling2d_6 (MaxPooling  (None, 4, 4, 512)        0         \n",
      " 2D)                                                             \n",
      "                                                                 \n",
      " dropout_8 (Dropout)         (None, 4, 4, 512)         0         \n",
      "                                                                 \n",
      " flatten_2 (Flatten)         (None, 8192)              0         \n",
      "                                                                 \n",
      " dense_4 (Dense)             (None, 1024)              8389632   \n",
      "                                                                 \n",
      " activation_11 (Activation)  (None, 1024)              0         \n",
      "                                                                 \n",
      " dropout_9 (Dropout)         (None, 1024)              0         \n",
      "                                                                 \n",
      " dense_5 (Dense)             (None, 100)               102500    \n",
      "                                                                 \n",
      " activation_12 (Activation)  (None, 100)               0         \n",
      "                                                                 \n",
      "=================================================================\n",
      "Total params: 9,821,796\n",
      "Trainable params: 9,821,796\n",
      "Non-trainable params: 0\n",
      "_________________________________________________________________\n",
      "Number of hidden layers: 16\n"
     ]
    }
   ],
   "source": [
    "model_16 = Sequential()\n",
    "model_16.add(Conv2D(64, (3, 3), padding='same', input_shape=(IMG_ROWS, IMG_COLS, IMG_CHANNELS)))\n",
    "model_16.add(Activation('relu'))\n",
    "model_16.add(MaxPooling2D(pool_size=(2, 2)))\n",
    "model_16.add(Dropout(0.25))\n",
    "\n",
    "model_16.add(Conv2D(256, (3, 3), padding='same'))\n",
    "model_16.add(Activation('relu'))\n",
    "model_16.add(MaxPooling2D(pool_size=(2, 2)))\n",
    "model_16.add(Dropout(0.25))\n",
    "\n",
    "model_16.add(Conv2D(512, (3, 3), padding='same'))\n",
    "model_16.add(Activation('relu'))\n",
    "model_16.add(MaxPooling2D(pool_size=(2, 2)))\n",
    "model_16.add(Dropout(0.25))\n",
    "\n",
    "model_16.add(Flatten())\n",
    "model_16.add(Dense(1024))\n",
    "model_16.add(Activation('relu'))\n",
    "model_16.add(Dropout(0.5))\n",
    "model_16.add(Dense(N_CLASSES))\n",
    "model_16.add(Activation('softmax'))\n",
    "\n",
    "\n",
    "# compile the model\n",
    "model_16.compile(loss='categorical_crossentropy', optimizer=Adam(learning_rate=0.0001), metrics=['accuracy'])\n",
    "model_16.summary()\n",
    "\n",
    "\n",
    "num_hidden_layers = len(model_16.layers) - 2  # Excluding the input and output layers\n",
    "print(\"Number of hidden layers:\", num_hidden_layers)\n",
    "\n",
    "# history = model_16.fit(input_X_train, output_Y_train, batch_size=512, epochs=N_EPOCH, validation_split=VALIDATION_SPLIT,  verbose=1)\n",
    "# score = model_16.evaluate(input_X_test, output_Y_test, batch_size=512, verbose=0)\n",
    "# print(\"Test score/loss:\", score[0])\n",
    "# print('Test accuracy:', score[1])"
   ]
  },
  {
   "cell_type": "code",
   "execution_count": 14,
   "metadata": {},
   "outputs": [
    {
     "name": "stdout",
     "output_type": "stream",
     "text": [
      "Model: \"sequential_3\"\n",
      "_________________________________________________________________\n",
      " Layer (type)                Output Shape              Param #   \n",
      "=================================================================\n",
      " conv2d_7 (Conv2D)           (None, 32, 32, 64)        1792      \n",
      "                                                                 \n",
      " activation_13 (Activation)  (None, 32, 32, 64)        0         \n",
      "                                                                 \n",
      " max_pooling2d_7 (MaxPooling  (None, 16, 16, 64)       0         \n",
      " 2D)                                                             \n",
      "                                                                 \n",
      " dropout_10 (Dropout)        (None, 16, 16, 64)        0         \n",
      "                                                                 \n",
      " conv2d_8 (Conv2D)           (None, 16, 16, 256)       147712    \n",
      "                                                                 \n",
      " activation_14 (Activation)  (None, 16, 16, 256)       0         \n",
      "                                                                 \n",
      " conv2d_9 (Conv2D)           (None, 16, 16, 256)       590080    \n",
      "                                                                 \n",
      " activation_15 (Activation)  (None, 16, 16, 256)       0         \n",
      "                                                                 \n",
      " max_pooling2d_8 (MaxPooling  (None, 8, 8, 256)        0         \n",
      " 2D)                                                             \n",
      "                                                                 \n",
      " dropout_11 (Dropout)        (None, 8, 8, 256)         0         \n",
      "                                                                 \n",
      " conv2d_10 (Conv2D)          (None, 8, 8, 512)         1180160   \n",
      "                                                                 \n",
      " activation_16 (Activation)  (None, 8, 8, 512)         0         \n",
      "                                                                 \n",
      " conv2d_11 (Conv2D)          (None, 8, 8, 512)         2359808   \n",
      "                                                                 \n",
      " activation_17 (Activation)  (None, 8, 8, 512)         0         \n",
      "                                                                 \n",
      " max_pooling2d_9 (MaxPooling  (None, 4, 4, 512)        0         \n",
      " 2D)                                                             \n",
      "                                                                 \n",
      " dropout_12 (Dropout)        (None, 4, 4, 512)         0         \n",
      "                                                                 \n",
      " flatten_3 (Flatten)         (None, 8192)              0         \n",
      "                                                                 \n",
      " dense_6 (Dense)             (None, 1024)              8389632   \n",
      "                                                                 \n",
      " activation_18 (Activation)  (None, 1024)              0         \n",
      "                                                                 \n",
      " dropout_13 (Dropout)        (None, 1024)              0         \n",
      "                                                                 \n",
      " dense_7 (Dense)             (None, 100)               102500    \n",
      "                                                                 \n",
      " activation_19 (Activation)  (None, 100)               0         \n",
      "                                                                 \n",
      "=================================================================\n",
      "Total params: 12,771,684\n",
      "Trainable params: 12,771,684\n",
      "Non-trainable params: 0\n",
      "_________________________________________________________________\n",
      "Number of hidden layers: 20\n"
     ]
    }
   ],
   "source": [
    "model_20 = Sequential()\n",
    "model_20.add(Conv2D(64, (3, 3), padding='same', input_shape=(IMG_ROWS, IMG_COLS, IMG_CHANNELS)))\n",
    "model_20.add(Activation('relu'))\n",
    "model_20.add(MaxPooling2D(pool_size=(2, 2)))\n",
    "model_20.add(Dropout(0.25))\n",
    "\n",
    "model_20.add(Conv2D(256, (3, 3), padding='same'))\n",
    "model_20.add(Activation('relu'))\n",
    "model_20.add(Conv2D(256, (3, 3), padding='same'))\n",
    "model_20.add(Activation('relu'))\n",
    "model_20.add(MaxPooling2D(pool_size=(2, 2)))\n",
    "model_20.add(Dropout(0.25))\n",
    "\n",
    "model_20.add(Conv2D(512, (3, 3), padding='same'))\n",
    "model_20.add(Activation('relu'))\n",
    "model_20.add(Conv2D(512, (3, 3), padding='same'))\n",
    "model_20.add(Activation('relu'))\n",
    "model_20.add(MaxPooling2D(pool_size=(2, 2)))\n",
    "model_20.add(Dropout(0.25))\n",
    "\n",
    "model_20.add(Flatten())\n",
    "model_20.add(Dense(1024))\n",
    "model_20.add(Activation('relu'))\n",
    "model_20.add(Dropout(0.5))\n",
    "model_20.add(Dense(N_CLASSES))\n",
    "model_20.add(Activation('softmax'))\n",
    "\n",
    "\n",
    "# compile the model\n",
    "model_20.compile(loss='categorical_crossentropy', optimizer=Adam(learning_rate=0.0001), metrics=['accuracy'])\n",
    "model_20.summary()\n",
    "\n",
    "\n",
    "num_hidden_layers = len(model_20.layers) - 2  # Excluding the input and output layers\n",
    "print(\"Number of hidden layers:\", num_hidden_layers)\n",
    "\n",
    "# history = model_20.fit(input_X_train, output_Y_train, batch_size=512, epochs=N_EPOCH, validation_split=VALIDATION_SPLIT,  verbose=1)\n",
    "# score = model_20.evaluate(input_X_test, output_Y_test, batch_size=512, verbose=0)\n",
    "# print(\"Test score/loss:\", score[0])\n",
    "# print('Test accuracy:', score[1])"
   ]
  },
  {
   "cell_type": "code",
   "execution_count": 15,
   "metadata": {},
   "outputs": [],
   "source": [
    "# Hidden Layers     Accuracy    Loss\n",
    "# 8                 0.3791      2.5392\n",
    "# 11                0.4311      2.4241\n",
    "# 12                0.4280      2.3463\n",
    "# 15                0.4614      2.1449\n",
    "# 16                0.4752      2.0856\n",
    "# 20                0.4542      2.3157\n",
    "# 21                0.4484      2.2071\n",
    "# 33                0.0100      4.6054"
   ]
  },
  {
   "cell_type": "markdown",
   "metadata": {},
   "source": [
    "..."
   ]
  },
  {
   "cell_type": "markdown",
   "metadata": {},
   "source": [
    "UNITS/FILTERS IN INPUT LAYER"
   ]
  },
  {
   "cell_type": "code",
   "execution_count": 16,
   "metadata": {},
   "outputs": [],
   "source": [
    "def units_experments(units):\n",
    "\n",
    "    for i in units:\n",
    "\n",
    "        model = get_model(lr=0.001,units=i)\n",
    "        model.summary()\n",
    "        history = model.fit(input_X_train, output_Y_train, batch_size=512, epochs=N_EPOCH, validation_split=VALIDATION_SPLIT,  verbose=0)\n",
    "        score = model.evaluate(input_X_test, output_Y_test, batch_size=512, verbose=0)\n",
    "        print(\"Units in first layer\", i)\n",
    "        print(\"Test score/loss:\", score[0])\n",
    "        print('Test accuracy:', score[1])\n",
    "\n",
    "units = [32, 64, 128, 256, 512]\n",
    "# units_experments(units)"
   ]
  },
  {
   "cell_type": "code",
   "execution_count": 17,
   "metadata": {},
   "outputs": [],
   "source": [
    "# Units in input Layers     Accuracy    Loss\n",
    "# 32                        0.4647      2.1252\n",
    "# 64                        0.4761      2.1030\n",
    "# 128                       0.4726      2.0743\n",
    "# 256                       0.4656      2.1842\n",
    "# 512                       0.4612      2.1872"
   ]
  },
  {
   "cell_type": "markdown",
   "metadata": {},
   "source": [
    "EPOCHS"
   ]
  },
  {
   "cell_type": "code",
   "execution_count": 18,
   "metadata": {},
   "outputs": [],
   "source": [
    "def epoch_experiments(epochs):\n",
    "    for i in epochs:\n",
    "\n",
    "        model = get_model(lr=0.001, units=64)\n",
    "        model.summary()\n",
    "        history = model.fit(input_X_train, output_Y_train, batch_size=512, epochs=i, validation_split=VALIDATION_SPLIT,  verbose=0)\n",
    "        score = model.evaluate(input_X_test, output_Y_test, batch_size=512, verbose=0)\n",
    "        print(\"EPOCHS\", i)\n",
    "        print(\"Test score/loss:\", score[0])\n",
    "        print('Test accuracy:', score[1])\n",
    "\n",
    "epochs = [5, 10, 20, 50, 100]\n",
    "# epoch_experiments(epochs)\n"
   ]
  },
  {
   "cell_type": "code",
   "execution_count": 19,
   "metadata": {},
   "outputs": [],
   "source": [
    "# Epochs Accuracy   Loss\n",
    "# 5      0.3242     2.7235\n",
    "# 10     0.4124     2.3432\n",
    "# 20     0.4710     2.0880\n",
    "# 50     0.4884     2.2161\n",
    "# 100    0.4837     2.7712"
   ]
  },
  {
   "cell_type": "markdown",
   "metadata": {},
   "source": [
    "FINAL MODEL"
   ]
  },
  {
   "cell_type": "code",
   "execution_count": 20,
   "metadata": {},
   "outputs": [
    {
     "name": "stdout",
     "output_type": "stream",
     "text": [
      "Number of hidden layers: 16\n"
     ]
    }
   ],
   "source": [
    "BATCH_SIZE = 512\n",
    "N_EPOCH = 50\n",
    "LEARNING_RATE = 0.001\n",
    "VALIDATION_SPLIT = 0.2\n",
    "\n",
    "\n",
    "model_final = get_model(lr=0.001, units=64)\n",
    "\n",
    "num_hidden_layers = len(model_final.layers) - 2  # Excluding the input and output layers\n",
    "print(\"Number of hidden layers:\", num_hidden_layers)"
   ]
  },
  {
   "cell_type": "code",
   "execution_count": 21,
   "metadata": {},
   "outputs": [],
   "source": [
    "from keras.callbacks import EarlyStopping\n",
    "\n",
    "# Define EarlyStopping callback\n",
    "early_stopping = EarlyStopping(monitor='val_accuracy',      # Metric to monitor\n",
    "                               mode='max',                  # Monitor for maximization\n",
    "                               patience=5,                  # Number of epochs with no improvement\n",
    "                               min_delta=0.001,             # Disable min_delta\n",
    "                               verbose=1,                   # Print messages\n",
    "                               restore_best_weights=True)   # Restore Best Weights\n",
    "                                 \n"
   ]
  },
  {
   "cell_type": "code",
   "execution_count": 22,
   "metadata": {},
   "outputs": [
    {
     "name": "stdout",
     "output_type": "stream",
     "text": [
      "Epoch 1/50\n",
      "79/79 [==============================] - 10s 69ms/step - loss: 4.3232 - accuracy: 0.0409 - val_loss: 3.9525 - val_accuracy: 0.1024\n",
      "Epoch 2/50\n",
      "79/79 [==============================] - 5s 58ms/step - loss: 3.7398 - accuracy: 0.1281 - val_loss: 3.3945 - val_accuracy: 0.1925\n",
      "Epoch 3/50\n",
      "79/79 [==============================] - 5s 58ms/step - loss: 3.3210 - accuracy: 0.2000 - val_loss: 3.0778 - val_accuracy: 0.2518\n",
      "Epoch 4/50\n",
      "79/79 [==============================] - 5s 58ms/step - loss: 3.0409 - accuracy: 0.2513 - val_loss: 2.8518 - val_accuracy: 0.2956\n",
      "Epoch 5/50\n",
      "79/79 [==============================] - 5s 58ms/step - loss: 2.8303 - accuracy: 0.2916 - val_loss: 2.7063 - val_accuracy: 0.3357\n",
      "Epoch 6/50\n",
      "79/79 [==============================] - 5s 58ms/step - loss: 2.6529 - accuracy: 0.3259 - val_loss: 2.5516 - val_accuracy: 0.3541\n",
      "Epoch 7/50\n",
      "79/79 [==============================] - 5s 58ms/step - loss: 2.5086 - accuracy: 0.3576 - val_loss: 2.5489 - val_accuracy: 0.3603\n",
      "Epoch 8/50\n",
      "79/79 [==============================] - 5s 58ms/step - loss: 2.3752 - accuracy: 0.3775 - val_loss: 2.4215 - val_accuracy: 0.3857\n",
      "Epoch 9/50\n",
      "79/79 [==============================] - 5s 58ms/step - loss: 2.2634 - accuracy: 0.4087 - val_loss: 2.3434 - val_accuracy: 0.4029\n",
      "Epoch 10/50\n",
      "79/79 [==============================] - 5s 58ms/step - loss: 2.1593 - accuracy: 0.4313 - val_loss: 2.3399 - val_accuracy: 0.4025\n",
      "Epoch 11/50\n",
      "79/79 [==============================] - 5s 58ms/step - loss: 2.0614 - accuracy: 0.4516 - val_loss: 2.2197 - val_accuracy: 0.4294\n",
      "Epoch 12/50\n",
      "79/79 [==============================] - 5s 58ms/step - loss: 1.9600 - accuracy: 0.4719 - val_loss: 2.2083 - val_accuracy: 0.4327\n",
      "Epoch 13/50\n",
      "79/79 [==============================] - 5s 58ms/step - loss: 1.8763 - accuracy: 0.4926 - val_loss: 2.1785 - val_accuracy: 0.4407\n",
      "Epoch 14/50\n",
      "79/79 [==============================] - 5s 58ms/step - loss: 1.7799 - accuracy: 0.5114 - val_loss: 2.1497 - val_accuracy: 0.4414\n",
      "Epoch 15/50\n",
      "79/79 [==============================] - 5s 58ms/step - loss: 1.7156 - accuracy: 0.5268 - val_loss: 2.1459 - val_accuracy: 0.4419\n",
      "Epoch 16/50\n",
      "79/79 [==============================] - 5s 58ms/step - loss: 1.6414 - accuracy: 0.5421 - val_loss: 2.1295 - val_accuracy: 0.4520\n",
      "Epoch 17/50\n",
      "79/79 [==============================] - 5s 58ms/step - loss: 1.5636 - accuracy: 0.5602 - val_loss: 2.1671 - val_accuracy: 0.4501\n",
      "Epoch 18/50\n",
      "79/79 [==============================] - 5s 58ms/step - loss: 1.4986 - accuracy: 0.5781 - val_loss: 2.1130 - val_accuracy: 0.4587\n",
      "Epoch 19/50\n",
      "79/79 [==============================] - 5s 58ms/step - loss: 1.4337 - accuracy: 0.5897 - val_loss: 2.1113 - val_accuracy: 0.4669\n",
      "Epoch 20/50\n",
      "79/79 [==============================] - 5s 58ms/step - loss: 1.3720 - accuracy: 0.6069 - val_loss: 2.1160 - val_accuracy: 0.4661\n",
      "Epoch 21/50\n",
      "79/79 [==============================] - 5s 58ms/step - loss: 1.2946 - accuracy: 0.6236 - val_loss: 2.1634 - val_accuracy: 0.4684\n",
      "Epoch 22/50\n",
      "79/79 [==============================] - 5s 58ms/step - loss: 1.2633 - accuracy: 0.6306 - val_loss: 2.1336 - val_accuracy: 0.4720\n",
      "Epoch 23/50\n",
      "79/79 [==============================] - 5s 58ms/step - loss: 1.1974 - accuracy: 0.6510 - val_loss: 2.1714 - val_accuracy: 0.4658\n",
      "Epoch 24/50\n",
      "79/79 [==============================] - 5s 58ms/step - loss: 1.1765 - accuracy: 0.6543 - val_loss: 2.1548 - val_accuracy: 0.4689\n",
      "Epoch 25/50\n",
      "79/79 [==============================] - 5s 58ms/step - loss: 1.1229 - accuracy: 0.6663 - val_loss: 2.1523 - val_accuracy: 0.4710\n",
      "Epoch 26/50\n",
      "79/79 [==============================] - 5s 58ms/step - loss: 1.0788 - accuracy: 0.6801 - val_loss: 2.1539 - val_accuracy: 0.4713\n",
      "Epoch 27/50\n",
      "79/79 [==============================] - 5s 58ms/step - loss: 1.0277 - accuracy: 0.6926 - val_loss: 2.1560 - val_accuracy: 0.4784\n",
      "Epoch 28/50\n",
      "79/79 [==============================] - 5s 58ms/step - loss: 0.9952 - accuracy: 0.6993 - val_loss: 2.1533 - val_accuracy: 0.4754\n",
      "Epoch 29/50\n",
      "79/79 [==============================] - 5s 58ms/step - loss: 0.9652 - accuracy: 0.7079 - val_loss: 2.2340 - val_accuracy: 0.4704\n",
      "Epoch 30/50\n",
      "79/79 [==============================] - 5s 58ms/step - loss: 0.9375 - accuracy: 0.7144 - val_loss: 2.2529 - val_accuracy: 0.4664\n",
      "Epoch 31/50\n",
      "79/79 [==============================] - 5s 59ms/step - loss: 0.9057 - accuracy: 0.7250 - val_loss: 2.2228 - val_accuracy: 0.4784\n",
      "Epoch 32/50\n",
      "78/79 [============================>.] - ETA: 0s - loss: 0.8778 - accuracy: 0.7321Restoring model weights from the end of the best epoch: 27.\n",
      "79/79 [==============================] - 5s 59ms/step - loss: 0.8778 - accuracy: 0.7321 - val_loss: 2.2438 - val_accuracy: 0.4730\n",
      "Epoch 32: early stopping\n",
      "Training stopped after epoch: 31\n"
     ]
    }
   ],
   "source": [
    "# # Training/fitting of the DNN model with EarlyStopping\n",
    "history = model_final.fit(input_X_train, output_Y_train,\n",
    "                    batch_size=BATCH_SIZE,\n",
    "                    epochs=N_EPOCH,\n",
    "                    validation_split=VALIDATION_SPLIT,\n",
    "                    callbacks=[early_stopping],  # Add EarlyStopping callback\n",
    "                    verbose=VERBOSE)\n",
    "\n",
    "if early_stopping.stopped_epoch:\n",
    "    # Print the stopped epoch\n",
    "    print(\"Training stopped after epoch:\", early_stopping.stopped_epoch)"
   ]
  },
  {
   "cell_type": "code",
   "execution_count": 23,
   "metadata": {},
   "outputs": [
    {
     "name": "stdout",
     "output_type": "stream",
     "text": [
      "BATCH_SIZE 512\n",
      "N_EPOCH 50\n",
      "LEARNING_RATE 0.001\n",
      "Test score/loss: 2.12073016166687\n",
      "Test accuracy: 0.4828000068664551\n"
     ]
    }
   ],
   "source": [
    "#Testing\n",
    "score = model_final.evaluate(input_X_test, output_Y_test, batch_size=512, verbose=0)\n",
    "print(\"BATCH_SIZE\", BATCH_SIZE)\n",
    "print(\"N_EPOCH\", N_EPOCH)\n",
    "print(\"LEARNING_RATE\", LEARNING_RATE)\n",
    "print(\"Test score/loss:\", score[0])\n",
    "print('Test accuracy:', score[1])"
   ]
  },
  {
   "cell_type": "code",
   "execution_count": 24,
   "metadata": {},
   "outputs": [
    {
     "data": {
      "image/png": "[encoded data removed]",
      "text/plain": [
       "<Figure size 640x480 with 1 Axes>"
      ]
     },
     "metadata": {},
     "output_type": "display_data"
    },
    {
     "data": {
      "image/png": "[encoded data removed]",
      "text/plain": [
       "<Figure size 640x480 with 1 Axes>"
      ]
     },
     "metadata": {},
     "output_type": "display_data"
    }
   ],
   "source": [
    "plt.plot(history.history['accuracy'])\n",
    "plt.plot(history.history['val_accuracy'])\n",
    "plt.title('model accuracy')\n",
    "plt.ylabel('accuracy')\n",
    "plt.xlabel('epoch')\n",
    "plt.legend(['train', 'validation'], loc='upper left')\n",
    "# plt.ylim(0, 1)\n",
    "plt.tight_layout()\n",
    "plt.savefig(\"finalacc\")\n",
    "plt.show()\n",
    "\n",
    "# summarize history for loss\n",
    "plt.plot(history.history['loss'])\n",
    "plt.plot(history.history['val_loss'])\n",
    "plt.title('model loss')\n",
    "plt.ylabel('loss')\n",
    "plt.xlabel('epoch')\n",
    "plt.legend(['train', 'validation'], loc='upper left')\n",
    "# plt.ylim(0, 1)\n",
    "plt.tight_layout()\n",
    "plt.savefig(\"finalloss\")\n",
    "plt.show()"
   ]
  }
 ],
 "metadata": {
  "kernelspec": {
   "display_name": "Python 3",
   "language": "python",
   "name": "python3"
  },
  "language_info": {
   "codemirror_mode": {
    "name": "ipython",
    "version": 3
   },
   "file_extension": ".py",
   "mimetype": "text/x-python",
   "name": "python",
   "nbconvert_exporter": "python",
   "pygments_lexer": "ipython3",
   "version": "3.9.19"
  }
 },
 "nbformat": 4,
 "nbformat_minor": 2
}
